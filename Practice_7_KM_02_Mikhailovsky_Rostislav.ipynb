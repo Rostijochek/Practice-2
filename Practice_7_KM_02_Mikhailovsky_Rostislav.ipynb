{
  "nbformat": 4,
  "nbformat_minor": 0,
  "metadata": {
    "colab": {
      "name": "Practice_7_KM-01_.ipynb",
      "provenance": [],
      "collapsed_sections": []
    },
    "kernelspec": {
      "name": "python3",
      "display_name": "Python 3"
    }
  },
  "cells": [
    {
      "cell_type": "markdown",
      "metadata": {
        "id": "FMqboNwO4rVs"
      },
      "source": [
        "# **Курс \"Програмування на мові Python\"**\n",
        "\n",
        "##### Викладачі:\n",
        "##### Борисенко Павло Борисович\n",
        "##### Щьоголєв Максим Олегович\n"
      ]
    },
    {
      "cell_type": "markdown",
      "metadata": {
        "id": "A2T6MigL5Z06"
      },
      "source": [
        "## **Практичне зайняття №7**\n",
        "\n",
        "### Тема: \"Перевірка даних. Робота з виключеннями. Регулярні вирази\""
      ]
    },
    {
      "cell_type": "markdown",
      "metadata": {
        "id": "cfCdgK2zXm7e"
      },
      "source": [
        "### **Завдання 1 (1,5 бали)**\n",
        "\n",
        "Переробити завдання №1 практичної роботи №6 з використанням регулярних виразів.\n",
        "\n",
        "1. Створити шаблон регулярного виразу.\n",
        "\n",
        "2. За допомогою функції compile() створити об'єкт регулярного виразу.\n",
        "\n",
        "3. Всі інші вимоги залишаються такими ж, як і в оригінальному завданні."
      ]
    },
    {
      "cell_type": "code",
      "metadata": {
        "id": "ifNX2M7LXm7f"
      },
      "source": [
        "import re\n",
        "pose_estimation = \"[BodyPart:0-(0.55, 0.17) score=0.81 BodyPart:1-(0.49, 0.27) score=0.85 BodyPart:2-(0.41, 0.26) score=0.67 BodyPart:3-(0.33, 0.37) score=0.72 BodyPart:4-(0.36, 0.48) score=0.78 BodyPart:5-(0.58, 0.27) score=0.81 BodyPart:6-(0.65, 0.38) score=0.88 BodyPart:7-(0.62, 0.48) score=0.86 BodyPart:8-(0.43, 0.48) score=0.60 BodyPart:9-(0.43, 0.66) score=0.67 BodyPart:10-(0.53, 0.79) score=0.56 BodyPart:11-(0.53, 0.48) score=0.56 BodyPart:12-(0.59, 0.66) score=0.75 BodyPart:13-(0.49, 0.80) score=0.50 BodyPart:14-(0.54, 0.15) score=0.73 BodyPart:15-(0.56, 0.15) score=0.85 BodyPart:16-(0.48, 0.16) score=0.81 BodyPart:17-(0.83, 0.18) score=0.79]\"\n",
        "textwelookfor = r\"\\d.\\d\\d\"\n",
        "rePattern = re.compile(textwelookfor)\n",
        "x = rePattern.findall(pose_estimation)\n",
        "p = []\n",
        "y = 0\n",
        "for i in range(len(x)):\n",
        "    if i == 2 + y:\n",
        "        p.append(x[i])\n",
        "        x[i] = ''\n",
        "        y = y + 3\n",
        "for i in range(len(x)):\n",
        "    for i in x:\n",
        "        if i == '':\n",
        "            x.remove(i)\n",
        "for i in range(len(x)):\n",
        "    x[i] = float(x[i])\n",
        "for i in range(len(p)):\n",
        "    p[i] = float(p[i])\n",
        "print(\"Points =\", x)\n",
        "print(\"Scores =\", p)"
      ],
      "execution_count": 2,
      "outputs": []
    },
    {
      "cell_type": "markdown",
      "metadata": {
        "id": "M1Sg0vXJXm7n"
      },
      "source": [
        "### **Завдання 2 (1,5 бали)**\n",
        "\n",
        "Написати програму підрахунку коренів квадратного рівняння без попередніх перевірок.\n",
        "\n",
        "1. Користувач має вводити коефіцієнти a, b та c з клавіатури.\n",
        "\n",
        "2. Програма має обробляти помилки ділення на 0, кореня від'ємного числа та інші, а також виводити відповідні повідомлення у разі виникнення таких помилок.\n",
        "\n",
        "3. Якщо рівняння не має коренів, программа має генерувати помилку за допомогою ключового слова raise, а потім обробляти її.\n",
        "\n",
        "4. Правильно написана програма при виникненні різних помилок має виводити текст помилки, а також різні повідомлення про те, в чому суть цих помилок. Необроблених помилок бути не повинно."
      ]
    },
    {
      "cell_type": "code",
      "metadata": {
        "id": "co7fcAuvXm7o"
      },
      "source": [
        "a = (input(\"a = \"))\n",
        "b = (input(\"b = \"))\n",
        "c = (input(\"c = \"))\n",
        "try:\n",
        "    d = round((float(b))**2 - (4*(float(a))*(float(c))), 2)\n",
        "except ValueError:\n",
        "    print(\"Неправильний запис коефіцієнтів\")\n",
        "    raise SystemExit\n",
        "print(d)\n",
        "try:\n",
        "    if d < 0:\n",
        "        raise ValueError(\"Рівняння коренів не має\")\n",
        "except ValueError as ve:\n",
        "    print(ve)\n",
        "    raise SystemExit\n",
        "\n",
        "import math\n",
        "try:\n",
        "    x1 = round(((-(float(b)) + (math.sqrt(d)))/(2*(float(a)))), 2)\n",
        "    print(\"Перший корінь -\", x1)\n",
        "except ZeroDivisionError:\n",
        "    print(\"Помилка! Зафіксовано ділення на нуль.\")\n",
        "    raise SystemExit\n",
        "\n",
        "x2 = round(((-(float(b)) - (math.sqrt(d)))/(2*(float(a)))), 2)\n",
        "print(\"Другий корінь -\", x2)"
      ],
      "execution_count": 4,
      "outputs": []
    }
  ]
}